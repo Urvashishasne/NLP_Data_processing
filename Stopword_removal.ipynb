{
  "nbformat": 4,
  "nbformat_minor": 0,
  "metadata": {
    "colab": {
      "provenance": []
    },
    "kernelspec": {
      "name": "python3",
      "display_name": "Python 3"
    },
    "language_info": {
      "name": "python"
    }
  },
  "cells": [
    {
      "cell_type": "markdown",
      "source": [
        "Stopward Removal"
      ],
      "metadata": {
        "id": "4Rtf9OhSMqN5"
      }
    },
    {
      "cell_type": "code",
      "source": [
        "text= \"A paragraph is a self-contained unit of discourse in writing that deals with a particular point or idea. It typically consists of several sentences that are unified and coherent, meaning they work together to express a single thought clearly. The length of a paragraph can vary, but it is generally defined by its content rather than a specific number of sentences. The purpose of a paragraph is to organize ideas and provide clarity in writing, ensuring that each paragraph focuses on a distinct topic or argument.\"\n"
      ],
      "metadata": {
        "id": "Ce7HglfjlmbJ"
      },
      "execution_count": 6,
      "outputs": []
    },
    {
      "cell_type": "markdown",
      "source": [
        "using Gensim"
      ],
      "metadata": {
        "id": "tQAtVQv-hrUp"
      }
    },
    {
      "cell_type": "code",
      "source": [
        "import gensim"
      ],
      "metadata": {
        "id": "7ligSqX-epM5"
      },
      "execution_count": 3,
      "outputs": []
    },
    {
      "cell_type": "code",
      "source": [
        "from gensim.parsing.preprocessing import remove_stopwords, STOPWORDS"
      ],
      "metadata": {
        "id": "iAbEgqClh49P"
      },
      "execution_count": 4,
      "outputs": []
    },
    {
      "cell_type": "code",
      "source": [
        "text_without_stopwords = remove_stopwords(text)\n",
        "len(text_without_stopwords)"
      ],
      "metadata": {
        "colab": {
          "base_uri": "https://localhost:8080/"
        },
        "id": "SA-3Ag07lDpU",
        "outputId": "f61adddd-34f9-4192-f03e-161b99ec4ccc"
      },
      "execution_count": 8,
      "outputs": [
        {
          "output_type": "execute_result",
          "data": {
            "text/plain": [
              "367"
            ]
          },
          "metadata": {},
          "execution_count": 8
        }
      ]
    },
    {
      "cell_type": "markdown",
      "source": [
        "Using SKlearn"
      ],
      "metadata": {
        "id": "0h-uZZXEmeaj"
      }
    },
    {
      "cell_type": "code",
      "source": [
        "from sklearn.feature_extraction.text import ENGLISH_STOP_WORDS"
      ],
      "metadata": {
        "id": "TlJwVHIHmjdC"
      },
      "execution_count": 9,
      "outputs": []
    },
    {
      "cell_type": "code",
      "source": [
        "words = [word for word in text.split()]\n",
        "without_stpwrd=[word for word in words if word.lower() not in ENGLISH_STOP_WORDS]\n",
        "#new_text = \" \".join(words)\n",
        "print(without_stpwrd)\n",
        "len(without_stpwrd)"
      ],
      "metadata": {
        "colab": {
          "base_uri": "https://localhost:8080/"
        },
        "id": "W5BgDj9im0sO",
        "outputId": "3a7bcc3e-0d36-4918-ffd9-109a66f0bc09"
      },
      "execution_count": 14,
      "outputs": [
        {
          "output_type": "stream",
          "name": "stdout",
          "text": [
            "['paragraph', 'self-contained', 'unit', 'discourse', 'writing', 'deals', 'particular', 'point', 'idea.', 'typically', 'consists', 'sentences', 'unified', 'coherent,', 'meaning', 'work', 'express', 'single', 'thought', 'clearly.', 'length', 'paragraph', 'vary,', 'generally', 'defined', 'content', 'specific', 'number', 'sentences.', 'purpose', 'paragraph', 'organize', 'ideas', 'provide', 'clarity', 'writing,', 'ensuring', 'paragraph', 'focuses', 'distinct', 'topic', 'argument.']\n"
          ]
        },
        {
          "output_type": "execute_result",
          "data": {
            "text/plain": [
              "42"
            ]
          },
          "metadata": {},
          "execution_count": 14
        }
      ]
    },
    {
      "cell_type": "markdown",
      "source": [
        "Using NLTK"
      ],
      "metadata": {
        "id": "SmyWClXYr1zV"
      }
    },
    {
      "cell_type": "code",
      "source": [
        "import nltk\n",
        "from nltk.corpus import stopwords as sw\n",
        "from nltk.tokenize import word_tokenize"
      ],
      "metadata": {
        "id": "TI-TJyIZoKSy"
      },
      "execution_count": 15,
      "outputs": []
    },
    {
      "cell_type": "code",
      "source": [
        "# Download NLTK data (run this once)\n",
        "nltk.download('stopwords')\n",
        "nltk.download('punkt')\n",
        "nltk.download('punkt_tab')"
      ],
      "metadata": {
        "colab": {
          "base_uri": "https://localhost:8080/"
        },
        "id": "-KQLdP26rbho",
        "outputId": "b9f6d4d7-3a21-4527-9fe9-cc731592438a"
      },
      "execution_count": 16,
      "outputs": [
        {
          "output_type": "stream",
          "name": "stderr",
          "text": [
            "[nltk_data] Downloading package stopwords to /root/nltk_data...\n",
            "[nltk_data]   Package stopwords is already up-to-date!\n",
            "[nltk_data] Downloading package punkt to /root/nltk_data...\n",
            "[nltk_data]   Package punkt is already up-to-date!\n",
            "[nltk_data] Downloading package punkt_tab to /root/nltk_data...\n",
            "[nltk_data]   Package punkt_tab is already up-to-date!\n"
          ]
        },
        {
          "output_type": "execute_result",
          "data": {
            "text/plain": [
              "True"
            ]
          },
          "metadata": {},
          "execution_count": 16
        }
      ]
    },
    {
      "cell_type": "code",
      "source": [
        "stop_words = sw.words('english')\n",
        "words=word_tokenize(text)\n",
        "words_without_stopwords=[word for word in words if word.lower() not in stop_words]\n",
        "len(words_without_stopwords)"
      ],
      "metadata": {
        "colab": {
          "base_uri": "https://localhost:8080/"
        },
        "id": "3McXyGFjrgCy",
        "outputId": "6566ce46-48a4-4463-f7f4-8d8075129e91"
      },
      "execution_count": 17,
      "outputs": [
        {
          "output_type": "execute_result",
          "data": {
            "text/plain": [
              "52"
            ]
          },
          "metadata": {},
          "execution_count": 17
        }
      ]
    },
    {
      "cell_type": "markdown",
      "source": [
        "using Spacy"
      ],
      "metadata": {
        "id": "MHJfzWIYrjmH"
      }
    },
    {
      "cell_type": "code",
      "source": [
        "import spacy\n",
        "en = spacy.load(\"en_core_web_sm\")\n",
        "# Access stop words using en.Defaults.stop_words\n",
        "stopwd_spacy = en.Defaults.stop_words"
      ],
      "metadata": {
        "id": "_QbfnOmtrixR"
      },
      "execution_count": 18,
      "outputs": []
    },
    {
      "cell_type": "code",
      "source": [
        "word=[word for word in text.split()]\n",
        "word_not_stpwrd=[i for i in words if i.lower() not in stopwd_spacy]\n",
        "len(word_not_stpwrd)"
      ],
      "metadata": {
        "colab": {
          "base_uri": "https://localhost:8080/"
        },
        "id": "wRYpPgm2rpvU",
        "outputId": "15b655f5-c506-4fd2-9ca3-1000eb7ae8cf"
      },
      "execution_count": 19,
      "outputs": [
        {
          "output_type": "execute_result",
          "data": {
            "text/plain": [
              "49"
            ]
          },
          "metadata": {},
          "execution_count": 19
        }
      ]
    }
  ]
}